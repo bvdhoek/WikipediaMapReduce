{
 "cells": [
  {
   "cell_type": "code",
   "execution_count": null,
   "id": "separated-communist",
   "metadata": {
    "scrolled": true
   },
   "outputs": [],
   "source": [
    "from pyspark.context import SparkContext\n",
    "conf = SparkConf().setAppName('wiki').setMaster('local[*]')\n",
    "sc = SparkContext(conf=conf)\n",
    "from numpy import loadtxt\n",
    "import re\n",
    "\n",
    "f = open(\"data/Agalega day gecko/2003-09-02T10;20;04Z\", \"r\")\n",
    "\n",
    "content = f.read()\n",
    "f.close()\n",
    "print(content)"
   ]
  },
  {
   "cell_type": "code",
   "execution_count": null,
   "id": "inclusive-difficulty",
   "metadata": {},
   "outputs": [],
   "source": [
    "content_rdd = sc.parallelize(list(content))\n",
    "content_rdd.where(r\"\\[\\[.*?\\]\\]\") "
   ]
  },
  {
   "cell_type": "code",
   "execution_count": null,
   "id": "exact-linux",
   "metadata": {},
   "outputs": [],
   "source": []
  },
  {
   "cell_type": "code",
   "execution_count": null,
   "id": "rational-camping",
   "metadata": {},
   "outputs": [],
   "source": []
  }
 ],
 "metadata": {
  "kernelspec": {
   "display_name": "Python 3",
   "language": "python",
   "name": "python3"
  },
  "language_info": {
   "codemirror_mode": {
    "name": "ipython",
    "version": 3
   },
   "file_extension": ".py",
   "mimetype": "text/x-python",
   "name": "python",
   "nbconvert_exporter": "python",
   "pygments_lexer": "ipython3",
   "version": "3.7.7"
  }
 },
 "nbformat": 4,
 "nbformat_minor": 5
}
